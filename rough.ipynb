{
 "cells": [
  {
   "cell_type": "code",
   "execution_count": 11,
   "metadata": {},
   "outputs": [],
   "source": [
    "import os\n",
    "try:\n",
    "    from doctr.models.recognition import crnn\n",
    "except ModuleNotFoundError as e:\n",
    "   os.system(f'pip install {e.name}')\n"
   ]
  },
  {
   "cell_type": "code",
   "execution_count": 3,
   "metadata": {},
   "outputs": [],
   "source": [
    "from doctr.models import detection\n",
    "from doctr import datasets"
   ]
  },
  {
   "cell_type": "code",
   "execution_count": 9,
   "metadata": {},
   "outputs": [
    {
     "ename": "ValueError",
     "evalue": "the dataset needs to be downloaded first with download=True",
     "output_type": "error",
     "traceback": [
      "\u001b[0;31m---------------------------------------------------------------------------\u001b[0m",
      "\u001b[0;31mValueError\u001b[0m                                Traceback (most recent call last)",
      "Cell \u001b[0;32mIn[9], line 1\u001b[0m\n\u001b[0;32m----> 1\u001b[0m datasets\u001b[39m.\u001b[39;49m\u001b[39m__dict__\u001b[39;49m[\u001b[39m'\u001b[39;49m\u001b[39mIndicData\u001b[39;49m\u001b[39m'\u001b[39;49m]()\n",
      "File \u001b[0;32m/media/ashatya/Data/work/iit-bombay/indic-doctr/doctr/datasets/indicData.py:49\u001b[0m, in \u001b[0;36mIndicData.__init__\u001b[0;34m(self, train, use_polygons, recognition_task, language, inp_path, sets, **kwargs)\u001b[0m\n\u001b[1;32m     38\u001b[0m \u001b[39mdef\u001b[39;00m \u001b[39m__init__\u001b[39m(\n\u001b[1;32m     39\u001b[0m     \u001b[39mself\u001b[39m,\n\u001b[1;32m     40\u001b[0m     train: \u001b[39mbool\u001b[39m \u001b[39m=\u001b[39m \u001b[39mTrue\u001b[39;00m,\n\u001b[0;32m   (...)\u001b[0m\n\u001b[1;32m     46\u001b[0m     \u001b[39m*\u001b[39m\u001b[39m*\u001b[39mkwargs: Any,\n\u001b[1;32m     47\u001b[0m ) \u001b[39m-\u001b[39m\u001b[39m>\u001b[39m \u001b[39mNone\u001b[39;00m:\n\u001b[0;32m---> 49\u001b[0m     \u001b[39msuper\u001b[39;49m()\u001b[39m.\u001b[39;49m\u001b[39m__init__\u001b[39;49m(\n\u001b[1;32m     50\u001b[0m         \u001b[39mself\u001b[39;49m\u001b[39m.\u001b[39;49mURL,\n\u001b[1;32m     51\u001b[0m         \u001b[39mself\u001b[39;49m\u001b[39m.\u001b[39;49mFILE_NAME,\n\u001b[1;32m     52\u001b[0m         \u001b[39mself\u001b[39;49m\u001b[39m.\u001b[39;49mSHA256,\n\u001b[1;32m     53\u001b[0m         \u001b[39mTrue\u001b[39;49;00m,\n\u001b[1;32m     54\u001b[0m         pre_transforms\u001b[39m=\u001b[39;49mconvert_target_to_relative \u001b[39mif\u001b[39;49;00m \u001b[39mnot\u001b[39;49;00m recognition_task \u001b[39melse\u001b[39;49;00m \u001b[39mNone\u001b[39;49;00m,\n\u001b[1;32m     55\u001b[0m         \u001b[39m*\u001b[39;49m\u001b[39m*\u001b[39;49mkwargs,\n\u001b[1;32m     56\u001b[0m     )\n\u001b[1;32m     57\u001b[0m     \u001b[39mself\u001b[39m\u001b[39m.\u001b[39mtrain \u001b[39m=\u001b[39m train\n\u001b[1;32m     58\u001b[0m     np_dtype \u001b[39m=\u001b[39m np\u001b[39m.\u001b[39mfloat32\n",
      "File \u001b[0;32m/media/ashatya/Data/work/iit-bombay/indic-doctr/doctr/datasets/datasets/base.py:108\u001b[0m, in \u001b[0;36m_VisionDataset.__init__\u001b[0;34m(self, url, file_name, file_hash, extract_archive, download, overwrite, cache_dir, cache_subdir, **kwargs)\u001b[0m\n\u001b[1;32m    105\u001b[0m archive_path: Union[\u001b[39mstr\u001b[39m, Path] \u001b[39m=\u001b[39m os\u001b[39m.\u001b[39mpath\u001b[39m.\u001b[39mjoin(cache_dir, cache_subdir, file_name)\n\u001b[1;32m    107\u001b[0m \u001b[39mif\u001b[39;00m \u001b[39mnot\u001b[39;00m os\u001b[39m.\u001b[39mpath\u001b[39m.\u001b[39mexists(archive_path) \u001b[39mand\u001b[39;00m \u001b[39mnot\u001b[39;00m download:\n\u001b[0;32m--> 108\u001b[0m     \u001b[39mraise\u001b[39;00m \u001b[39mValueError\u001b[39;00m(\u001b[39m\"\u001b[39m\u001b[39mthe dataset needs to be downloaded first with download=True\u001b[39m\u001b[39m\"\u001b[39m)\n\u001b[1;32m    110\u001b[0m archive_path \u001b[39m=\u001b[39m download_from_url(url, file_name, file_hash, cache_dir\u001b[39m=\u001b[39mcache_dir, cache_subdir\u001b[39m=\u001b[39mcache_subdir)\n\u001b[1;32m    112\u001b[0m \u001b[39m# Extract the archive\u001b[39;00m\n",
      "\u001b[0;31mValueError\u001b[0m: the dataset needs to be downloaded first with download=True"
     ]
    }
   ],
   "source": [
    "datasets.__dict__['IndicData']()"
   ]
  },
  {
   "cell_type": "code",
   "execution_count": 20,
   "metadata": {},
   "outputs": [],
   "source": [
    "dataset = 'DEVANAGARI'\n",
    "input_size = 32\n",
    "use_polygons = True"
   ]
  },
  {
   "cell_type": "code",
   "execution_count": 21,
   "metadata": {},
   "outputs": [
    {
     "ename": "KeyError",
     "evalue": "'DEVANAGARI'",
     "output_type": "error",
     "traceback": [
      "\u001b[0;31m---------------------------------------------------------------------------\u001b[0m",
      "\u001b[0;31mKeyError\u001b[0m                                  Traceback (most recent call last)",
      "Cell \u001b[0;32mIn[21], line 1\u001b[0m\n\u001b[0;32m----> 1\u001b[0m data \u001b[39m=\u001b[39m datasets\u001b[39m.\u001b[39;49m\u001b[39m__dict__\u001b[39;49m[dataset](\n\u001b[1;32m      2\u001b[0m         train\u001b[39m=\u001b[39m\u001b[39mFalse\u001b[39;00m,\n\u001b[1;32m      3\u001b[0m         download\u001b[39m=\u001b[39m\u001b[39mTrue\u001b[39;00m,\n\u001b[1;32m      4\u001b[0m         recognition_task\u001b[39m=\u001b[39m\u001b[39mTrue\u001b[39;00m,\n\u001b[1;32m      5\u001b[0m         use_polygons\u001b[39m=\u001b[39muse_polygons,\n\u001b[1;32m      6\u001b[0m         img_transforms\u001b[39m=\u001b[39mT\u001b[39m.\u001b[39mResize((input_size, \u001b[39m4\u001b[39m \u001b[39m*\u001b[39m input_size), preserve_aspect_ratio\u001b[39m=\u001b[39m\u001b[39mTrue\u001b[39;00m),\n\u001b[1;32m      7\u001b[0m     )\n",
      "\u001b[0;31mKeyError\u001b[0m: 'DEVANAGARI'"
     ]
    }
   ],
   "source": [
    "data = datasets.__dict__[dataset](\n",
    "        train=False,\n",
    "        download=True,\n",
    "        recognition_task=True,\n",
    "        use_polygons=use_polygons,\n",
    "        img_transforms=T.Resize((input_size, 4 * input_size), preserve_aspect_ratio=True),\n",
    "    )"
   ]
  },
  {
   "cell_type": "code",
   "execution_count": 15,
   "metadata": {},
   "outputs": [],
   "source": [
    "import os"
   ]
  },
  {
   "cell_type": "code",
   "execution_count": 17,
   "metadata": {},
   "outputs": [],
   "source": [
    "os.environ['USE_TORCH'] = '1'"
   ]
  },
  {
   "cell_type": "code",
   "execution_count": null,
   "metadata": {},
   "outputs": [],
   "source": []
  }
 ],
 "metadata": {
  "kernelspec": {
   "display_name": "torch",
   "language": "python",
   "name": "python3"
  },
  "language_info": {
   "codemirror_mode": {
    "name": "ipython",
    "version": 3
   },
   "file_extension": ".py",
   "mimetype": "text/x-python",
   "name": "python",
   "nbconvert_exporter": "python",
   "pygments_lexer": "ipython3",
   "version": "3.10.6"
  },
  "orig_nbformat": 4,
  "vscode": {
   "interpreter": {
    "hash": "950bd48d5df7661c49664b65d899f9df442163113fe67b13946103086fe16d50"
   }
  }
 },
 "nbformat": 4,
 "nbformat_minor": 2
}
